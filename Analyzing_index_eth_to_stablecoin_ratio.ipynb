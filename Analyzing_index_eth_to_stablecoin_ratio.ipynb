{
  "nbformat": 4,
  "nbformat_minor": 0,
  "metadata": {
    "colab": {
      "name": "Analyzing index eth_to_stablecoin_ratio",
      "provenance": [],
      "collapsed_sections": []
    },
    "kernelspec": {
      "display_name": "Python 3",
      "name": "python3"
    }
  },
  "cells": [
    {
      "cell_type": "markdown",
      "metadata": {
        "id": "qTmLBxDxBAZL"
      },
      "source": [
        "### Provide your credentials to the runtime"
      ]
    },
    {
      "cell_type": "markdown",
      "metadata": {
        "id": "uI4f2Z1YC7tq"
      },
      "source": [
        ""
      ]
    },
    {
      "cell_type": "code",
      "metadata": {
        "colab": {
          "base_uri": "https://localhost:8080/"
        },
        "id": "SeTJb51SKs_W",
        "outputId": "1a2e65af-746f-434d-a9e6-d6a16d8e0d16"
      },
      "source": [
        "from google.colab import auth\n",
        "auth.authenticate_user()\n",
        "print('Authenticated')"
      ],
      "execution_count": null,
      "outputs": [
        {
          "output_type": "stream",
          "name": "stdout",
          "text": [
            "Authenticated\n"
          ]
        }
      ]
    },
    {
      "cell_type": "code",
      "metadata": {
        "id": "hWK0nJWgKs_8"
      },
      "source": [
        "project_id = 'supple-antenna-326401'"
      ],
      "execution_count": null,
      "outputs": []
    },
    {
      "cell_type": "code",
      "metadata": {
        "id": "Uz7VI5QEvodR"
      },
      "source": [
        "from google.cloud import bigquery\n",
        "\n",
        "client = bigquery.Client(project=project_id)"
      ],
      "execution_count": null,
      "outputs": []
    },
    {
      "cell_type": "code",
      "metadata": {
        "id": "C0XeeHuJvfL4"
      },
      "source": [
        "compound_borrows_df = client.query('''select * from `arcx_dev.compound_usdc_sample_address`''').to_dataframe().drop(['log_index','contract_address'],axis=1)\n",
        "compound_borrows_df['borrowAmount'] = compound_borrows_df['borrowAmount'].apply(lambda x: int(x)/10**6)\n",
        "compound_borrows_df['accountBorrows'] = compound_borrows_df['accountBorrows'].apply(lambda x: int(x)/10**6)\n",
        "compound_borrows_df['totalBorrows'] = compound_borrows_df['totalBorrows'].apply(lambda x: int(x)/10**6)"
      ],
      "execution_count": null,
      "outputs": []
    },
    {
      "cell_type": "code",
      "metadata": {
        "id": "R8FmsRXoDcOo",
        "colab": {
          "base_uri": "https://localhost:8080/",
          "height": 419
        },
        "outputId": "1ed31eb2-a3cf-49ce-8def-e643b34f86ea"
      },
      "source": [
        "compound_borrows_df"
      ],
      "execution_count": null,
      "outputs": [
        {
          "output_type": "execute_result",
          "data": {
            "text/html": [
              "<div>\n",
              "<style scoped>\n",
              "    .dataframe tbody tr th:only-of-type {\n",
              "        vertical-align: middle;\n",
              "    }\n",
              "\n",
              "    .dataframe tbody tr th {\n",
              "        vertical-align: top;\n",
              "    }\n",
              "\n",
              "    .dataframe thead th {\n",
              "        text-align: right;\n",
              "    }\n",
              "</style>\n",
              "<table border=\"1\" class=\"dataframe\">\n",
              "  <thead>\n",
              "    <tr style=\"text-align: right;\">\n",
              "      <th></th>\n",
              "      <th>block_timestamp</th>\n",
              "      <th>block_number</th>\n",
              "      <th>transaction_hash</th>\n",
              "      <th>borrower</th>\n",
              "      <th>borrowAmount</th>\n",
              "      <th>accountBorrows</th>\n",
              "      <th>totalBorrows</th>\n",
              "      <th>has_liquidate_event</th>\n",
              "      <th>rk</th>\n",
              "    </tr>\n",
              "  </thead>\n",
              "  <tbody>\n",
              "    <tr>\n",
              "      <th>0</th>\n",
              "      <td>2021-09-17 05:11:02+00:00</td>\n",
              "      <td>13241292</td>\n",
              "      <td>0x5d8885e3298e367c10d4e18ca10d34104350f9776a02...</td>\n",
              "      <td>0x7bc0ceafffc2f2322f07c3058ffbcc2fa7c2af7d</td>\n",
              "      <td>5.000000e+03</td>\n",
              "      <td>1.697661e+04</td>\n",
              "      <td>3.552371e+09</td>\n",
              "      <td>0</td>\n",
              "      <td>1</td>\n",
              "    </tr>\n",
              "    <tr>\n",
              "      <th>1</th>\n",
              "      <td>2021-09-10 21:17:17+00:00</td>\n",
              "      <td>13200399</td>\n",
              "      <td>0xd434f4931a9cd623ff96445116c0748a8a6b84f65ca9...</td>\n",
              "      <td>0x4a7709e60820b28f11eb92bad9f34d1d9e34d8b2</td>\n",
              "      <td>1.500000e+04</td>\n",
              "      <td>1.500000e+04</td>\n",
              "      <td>3.920828e+09</td>\n",
              "      <td>0</td>\n",
              "      <td>1</td>\n",
              "    </tr>\n",
              "    <tr>\n",
              "      <th>2</th>\n",
              "      <td>2021-07-22 09:17:59+00:00</td>\n",
              "      <td>12875311</td>\n",
              "      <td>0xb57dc27fe0db94f40ec6a4bddc14e9ad52f667e407f6...</td>\n",
              "      <td>0xf6b438c864188d35955403415f5186b8fdb65b77</td>\n",
              "      <td>8.612704e+04</td>\n",
              "      <td>5.320439e+05</td>\n",
              "      <td>2.948397e+09</td>\n",
              "      <td>0</td>\n",
              "      <td>1</td>\n",
              "    </tr>\n",
              "    <tr>\n",
              "      <th>3</th>\n",
              "      <td>2021-05-01 07:30:00+00:00</td>\n",
              "      <td>12346952</td>\n",
              "      <td>0xd715bd1e53895021ca1c873043c5c42ccdbfa0f9cc8c...</td>\n",
              "      <td>0x90c0bf8d71369d21f8addf0da33d21dcb0b1c384</td>\n",
              "      <td>2.300000e+04</td>\n",
              "      <td>2.300000e+04</td>\n",
              "      <td>3.565456e+09</td>\n",
              "      <td>1</td>\n",
              "      <td>1</td>\n",
              "    </tr>\n",
              "    <tr>\n",
              "      <th>4</th>\n",
              "      <td>2021-06-28 13:24:34+00:00</td>\n",
              "      <td>12722770</td>\n",
              "      <td>0x34b28ada54e9638cc7751460c351a05e33bfb1d2be71...</td>\n",
              "      <td>0x532c49c40db1d5c655776c4815c133a3d7851cb6</td>\n",
              "      <td>3.000000e+03</td>\n",
              "      <td>2.504372e+04</td>\n",
              "      <td>1.986887e+09</td>\n",
              "      <td>0</td>\n",
              "      <td>1</td>\n",
              "    </tr>\n",
              "    <tr>\n",
              "      <th>...</th>\n",
              "      <td>...</td>\n",
              "      <td>...</td>\n",
              "      <td>...</td>\n",
              "      <td>...</td>\n",
              "      <td>...</td>\n",
              "      <td>...</td>\n",
              "      <td>...</td>\n",
              "      <td>...</td>\n",
              "      <td>...</td>\n",
              "    </tr>\n",
              "    <tr>\n",
              "      <th>14367</th>\n",
              "      <td>2021-07-26 07:52:50+00:00</td>\n",
              "      <td>12900608</td>\n",
              "      <td>0x1728827bd323401ed6faee0fb3ceb177d28d2aea6c14...</td>\n",
              "      <td>0xe6c78b85f93c25b8ee7d963fd15d1d53a00f5908</td>\n",
              "      <td>1.195894e+07</td>\n",
              "      <td>1.227124e+09</td>\n",
              "      <td>3.030761e+09</td>\n",
              "      <td>0</td>\n",
              "      <td>1</td>\n",
              "    </tr>\n",
              "    <tr>\n",
              "      <th>14368</th>\n",
              "      <td>2021-08-08 11:46:25+00:00</td>\n",
              "      <td>12984248</td>\n",
              "      <td>0xc39e1577349111a400469e5692aa15f9609104506ba3...</td>\n",
              "      <td>0xe6c78b85f93c25b8ee7d963fd15d1d53a00f5908</td>\n",
              "      <td>7.332742e+06</td>\n",
              "      <td>1.258899e+09</td>\n",
              "      <td>3.216765e+09</td>\n",
              "      <td>0</td>\n",
              "      <td>1</td>\n",
              "    </tr>\n",
              "    <tr>\n",
              "      <th>14369</th>\n",
              "      <td>2021-07-09 10:00:54+00:00</td>\n",
              "      <td>12792522</td>\n",
              "      <td>0xd09867f50043e869e76d6cf83fe44216380d9b37a680...</td>\n",
              "      <td>0xe6c78b85f93c25b8ee7d963fd15d1d53a00f5908</td>\n",
              "      <td>3.503104e+06</td>\n",
              "      <td>1.314299e+08</td>\n",
              "      <td>1.774530e+09</td>\n",
              "      <td>0</td>\n",
              "      <td>1</td>\n",
              "    </tr>\n",
              "    <tr>\n",
              "      <th>14370</th>\n",
              "      <td>2021-07-09 16:11:24+00:00</td>\n",
              "      <td>12794142</td>\n",
              "      <td>0xfd7ea4dae6c07d5bc0dd89dfbbfd594c8d6209815bae...</td>\n",
              "      <td>0xe6c78b85f93c25b8ee7d963fd15d1d53a00f5908</td>\n",
              "      <td>6.872898e+06</td>\n",
              "      <td>2.578295e+08</td>\n",
              "      <td>1.930765e+09</td>\n",
              "      <td>0</td>\n",
              "      <td>1</td>\n",
              "    </tr>\n",
              "    <tr>\n",
              "      <th>14371</th>\n",
              "      <td>2021-07-10 15:07:18+00:00</td>\n",
              "      <td>12800327</td>\n",
              "      <td>0x5958d0318bae130153067ad03ae21d5f5789ee1c8fd9...</td>\n",
              "      <td>0xe6c78b85f93c25b8ee7d963fd15d1d53a00f5908</td>\n",
              "      <td>2.199726e+07</td>\n",
              "      <td>8.216900e+08</td>\n",
              "      <td>2.532416e+09</td>\n",
              "      <td>0</td>\n",
              "      <td>1</td>\n",
              "    </tr>\n",
              "  </tbody>\n",
              "</table>\n",
              "<p>14372 rows × 9 columns</p>\n",
              "</div>"
            ],
            "text/plain": [
              "                block_timestamp  block_number  ... has_liquidate_event rk\n",
              "0     2021-09-17 05:11:02+00:00      13241292  ...                   0  1\n",
              "1     2021-09-10 21:17:17+00:00      13200399  ...                   0  1\n",
              "2     2021-07-22 09:17:59+00:00      12875311  ...                   0  1\n",
              "3     2021-05-01 07:30:00+00:00      12346952  ...                   1  1\n",
              "4     2021-06-28 13:24:34+00:00      12722770  ...                   0  1\n",
              "...                         ...           ...  ...                 ... ..\n",
              "14367 2021-07-26 07:52:50+00:00      12900608  ...                   0  1\n",
              "14368 2021-08-08 11:46:25+00:00      12984248  ...                   0  1\n",
              "14369 2021-07-09 10:00:54+00:00      12792522  ...                   0  1\n",
              "14370 2021-07-09 16:11:24+00:00      12794142  ...                   0  1\n",
              "14371 2021-07-10 15:07:18+00:00      12800327  ...                   0  1\n",
              "\n",
              "[14372 rows x 9 columns]"
            ]
          },
          "metadata": {},
          "execution_count": 34
        }
      ]
    },
    {
      "cell_type": "markdown",
      "metadata": {
        "id": "XGR77h5V_y4s"
      },
      "source": [
        "The sample data is comprised with the compound `borrow` events and then a column with `has_liquidation_event` if a liquidation event occured after that borrow. This is a certainly a simplification of the underlying borrowing mechanics."
      ]
    },
    {
      "cell_type": "code",
      "metadata": {
        "id": "BGTdC3YWmhI1",
        "colab": {
          "base_uri": "https://localhost:8080/"
        },
        "outputId": "a48b3786-e04f-4d6b-cdfd-0b4687ce2d1f"
      },
      "source": [
        "compound_borrows_df['has_liquidate_event'].value_counts()"
      ],
      "execution_count": null,
      "outputs": [
        {
          "output_type": "execute_result",
          "data": {
            "text/plain": [
              "0    14090\n",
              "1      282\n",
              "Name: has_liquidate_event, dtype: int64"
            ]
          },
          "metadata": {},
          "execution_count": 27
        }
      ]
    },
    {
      "cell_type": "markdown",
      "metadata": {
        "id": "mLrFP_hNCP0u"
      },
      "source": [
        "the idea is to label liquidation events as negative samples, and \n",
        "ongoing borrows as positive.  Again, this might not be a good representation ( a lot of factors might be missing)"
      ]
    },
    {
      "cell_type": "code",
      "metadata": {
        "id": "mmWof5pkCiNI",
        "colab": {
          "base_uri": "https://localhost:8080/"
        },
        "outputId": "a7a89f3f-9325-4235-9b73-29c9334afdb1"
      },
      "source": [
        "compound_borrows_df['borrower'].nunique()"
      ],
      "execution_count": null,
      "outputs": [
        {
          "output_type": "execute_result",
          "data": {
            "text/plain": [
              "3018"
            ]
          },
          "metadata": {},
          "execution_count": 30
        }
      ]
    },
    {
      "cell_type": "markdown",
      "metadata": {
        "id": "jL6K0JBtDr5A"
      },
      "source": [
        "we have ~3k unique addresses we're going to compute the index on"
      ]
    },
    {
      "cell_type": "markdown",
      "metadata": {
        "id": "UWSOGeSAk0QX"
      },
      "source": [
        "# data validation\n",
        "at this point we've already run the dbt models and created:\n",
        "```\n",
        "10:41:59 | 1 of 4 START table model arcx_dev.compound_usdc_sample_address....... [RUN]\n",
        "10:42:08 | 1 of 4 OK created table model arcx_dev.compound_usdc_sample_address.. [CREATE TABLE (16.4k rows, 3.6 MB processed) in 8.37s]\n",
        "10:42:08 | 2 of 4 START table model arcx_dev.ethereum_balances_over_time........ [RUN]\n",
        "10:42:42 | 2 of 4 OK created table model arcx_dev.ethereum_balances_over_time... [CREATE TABLE (1.1m rows, 558.1 GB processed) in 34.53s]\n",
        "10:42:42 | 3 of 4 START table model arcx_dev.stablecoin_balances_over_time...... [RUN]\n",
        "10:42:52 | 3 of 4 OK created table model arcx_dev.stablecoin_balances_over_time. [CREATE TABLE (1.5m rows, 117.5 GB processed) in 9.75s]\n",
        "10:42:52 | 4 of 4 START table model arcx_dev.stablecoin_balances_over_time_adjusted [RUN]\n",
        "10:43:09 | 4 of 4 OK created table model arcx_dev.stablecoin_balances_over_time_adjusted [CREATE TABLE (1.1m rows, 237.0 MB processed) in 17.07s]\n",
        "```\n",
        "\n",
        "we'll use etherscan.io to check for the latest balances on\n",
        "* eth\n",
        "* stablecoin (usdt+usdc+dai) "
      ]
    },
    {
      "cell_type": "code",
      "metadata": {
        "id": "m-ZKYbXXlAID",
        "colab": {
          "base_uri": "https://localhost:8080/"
        },
        "outputId": "13f49053-3d9b-468d-b316-e66525b4d9b2"
      },
      "source": [
        "sample_address = '0x9c92d74ae777fa12715f0033ba027ecb86bbff6a'\n",
        "print(f'http://etherscan.io/address/{sample_address}')"
      ],
      "execution_count": null,
      "outputs": [
        {
          "output_type": "stream",
          "name": "stdout",
          "text": [
            "http://etherscan.io/address/0x9c92d74ae777fa12715f0033ba027ecb86bbff6a\n"
          ]
        }
      ]
    },
    {
      "cell_type": "code",
      "metadata": {
        "id": "1gT06gDSmbYw",
        "colab": {
          "base_uri": "https://localhost:8080/",
          "height": 80
        },
        "outputId": "861ab61a-5da0-47cb-d09e-2685ea043813"
      },
      "source": [
        "client.query(f\"select * from arcx_dev.ethereum_balances_over_time where address='{sample_address}' order by date desc limit 1\").to_dataframe()"
      ],
      "execution_count": null,
      "outputs": [
        {
          "output_type": "execute_result",
          "data": {
            "text/html": [
              "<div>\n",
              "<style scoped>\n",
              "    .dataframe tbody tr th:only-of-type {\n",
              "        vertical-align: middle;\n",
              "    }\n",
              "\n",
              "    .dataframe tbody tr th {\n",
              "        vertical-align: top;\n",
              "    }\n",
              "\n",
              "    .dataframe thead th {\n",
              "        text-align: right;\n",
              "    }\n",
              "</style>\n",
              "<table border=\"1\" class=\"dataframe\">\n",
              "  <thead>\n",
              "    <tr style=\"text-align: right;\">\n",
              "      <th></th>\n",
              "      <th>address</th>\n",
              "      <th>date</th>\n",
              "      <th>balance</th>\n",
              "    </tr>\n",
              "  </thead>\n",
              "  <tbody>\n",
              "    <tr>\n",
              "      <th>0</th>\n",
              "      <td>0x9c92d74ae777fa12715f0033ba027ecb86bbff6a</td>\n",
              "      <td>2021-09-19</td>\n",
              "      <td>53957931308944491</td>\n",
              "    </tr>\n",
              "  </tbody>\n",
              "</table>\n",
              "</div>"
            ],
            "text/plain": [
              "                                      address        date            balance\n",
              "0  0x9c92d74ae777fa12715f0033ba027ecb86bbff6a  2021-09-19  53957931308944491"
            ]
          },
          "metadata": {},
          "execution_count": 40
        }
      ]
    },
    {
      "cell_type": "code",
      "metadata": {
        "id": "InDgw8CFmbAf",
        "colab": {
          "base_uri": "https://localhost:8080/",
          "height": 142
        },
        "outputId": "5d6f716d-bbb8-48b2-c7f9-e042fd745437"
      },
      "source": [
        "client.query(f\"select * from arcx_dev.stablecoin_balances_over_time where address='{sample_address}' order by date desc limit 3\").to_dataframe()"
      ],
      "execution_count": null,
      "outputs": [
        {
          "output_type": "execute_result",
          "data": {
            "text/html": [
              "<div>\n",
              "<style scoped>\n",
              "    .dataframe tbody tr th:only-of-type {\n",
              "        vertical-align: middle;\n",
              "    }\n",
              "\n",
              "    .dataframe tbody tr th {\n",
              "        vertical-align: top;\n",
              "    }\n",
              "\n",
              "    .dataframe thead th {\n",
              "        text-align: right;\n",
              "    }\n",
              "</style>\n",
              "<table border=\"1\" class=\"dataframe\">\n",
              "  <thead>\n",
              "    <tr style=\"text-align: right;\">\n",
              "      <th></th>\n",
              "      <th>token_address</th>\n",
              "      <th>address</th>\n",
              "      <th>date</th>\n",
              "      <th>balance</th>\n",
              "    </tr>\n",
              "  </thead>\n",
              "  <tbody>\n",
              "    <tr>\n",
              "      <th>0</th>\n",
              "      <td>0xdac17f958d2ee523a2206206994597c13d831ec7</td>\n",
              "      <td>0x9c92d74ae777fa12715f0033ba027ecb86bbff6a</td>\n",
              "      <td>2021-09-19</td>\n",
              "      <td>407920813</td>\n",
              "    </tr>\n",
              "    <tr>\n",
              "      <th>1</th>\n",
              "      <td>0xa0b86991c6218b36c1d19d4a2e9eb0ce3606eb48</td>\n",
              "      <td>0x9c92d74ae777fa12715f0033ba027ecb86bbff6a</td>\n",
              "      <td>2021-09-19</td>\n",
              "      <td>20000000</td>\n",
              "    </tr>\n",
              "    <tr>\n",
              "      <th>2</th>\n",
              "      <td>0xdac17f958d2ee523a2206206994597c13d831ec7</td>\n",
              "      <td>0x9c92d74ae777fa12715f0033ba027ecb86bbff6a</td>\n",
              "      <td>2021-09-18</td>\n",
              "      <td>407920813</td>\n",
              "    </tr>\n",
              "  </tbody>\n",
              "</table>\n",
              "</div>"
            ],
            "text/plain": [
              "                                token_address  ...    balance\n",
              "0  0xdac17f958d2ee523a2206206994597c13d831ec7  ...  407920813\n",
              "1  0xa0b86991c6218b36c1d19d4a2e9eb0ce3606eb48  ...   20000000\n",
              "2  0xdac17f958d2ee523a2206206994597c13d831ec7  ...  407920813\n",
              "\n",
              "[3 rows x 4 columns]"
            ]
          },
          "metadata": {},
          "execution_count": 45
        }
      ]
    },
    {
      "cell_type": "markdown",
      "metadata": {
        "id": "2mwhwva6IFy7"
      },
      "source": [
        "looks like we have about 407 of usdt + 20 usdc + 0 DAI. adds up to the etherscan results"
      ]
    },
    {
      "cell_type": "markdown",
      "metadata": {
        "id": "0QhFDilEIWSK"
      },
      "source": [
        "# Get ethereum prices through API"
      ]
    },
    {
      "cell_type": "code",
      "metadata": {
        "id": "_WMTiJCxMKrL"
      },
      "source": [
        "import requests\n",
        "import datetime\n",
        "from_date_epoch = 1420151457\n",
        "current_date_epoch = datetime.datetime.now()\n",
        "current_timestamp = datetime.datetime.now()\n",
        "etehreum_price_json = requests.get('https://api.coingecko.com/api/v3/coins/ethereum/market_chart/range?vs_currency=usd&from=1420151457&to=1632090657').json()\n"
      ],
      "execution_count": null,
      "outputs": []
    },
    {
      "cell_type": "code",
      "metadata": {
        "id": "Dqr55SCOMKnE"
      },
      "source": [
        "import pandas as pd\n",
        "prices_df = pd.DataFrame.from_records(etehreum_price_json['prices'])\n",
        "prices_df.columns = ['epoch','price']"
      ],
      "execution_count": null,
      "outputs": []
    },
    {
      "cell_type": "code",
      "metadata": {
        "id": "nWerKXyoNUip"
      },
      "source": [
        "import datetime\n",
        "prices_df['date'] = prices_df['epoch'].apply(lambda x: datetime.datetime.fromtimestamp(x/1000))"
      ],
      "execution_count": null,
      "outputs": []
    },
    {
      "cell_type": "code",
      "metadata": {
        "colab": {
          "base_uri": "https://localhost:8080/"
        },
        "id": "34BaLJ7WOfVr",
        "outputId": "94ccb33c-faff-4c98-a679-5124551274df"
      },
      "source": [
        "epoch = datetime.datetime.utcfromtimestamp(0)\n",
        "current_time_in_ms = (datetime.datetime.now() - epoch).total_seconds() * 1000.0\n",
        "print(current_time_in_ms)"
      ],
      "execution_count": null,
      "outputs": [
        {
          "output_type": "stream",
          "name": "stdout",
          "text": [
            "1632145869705.415\n"
          ]
        }
      ]
    },
    {
      "cell_type": "markdown",
      "metadata": {
        "id": "OP3s2os9IilJ"
      },
      "source": [
        "# explore index data"
      ]
    },
    {
      "cell_type": "code",
      "metadata": {
        "id": "5GOC3fY2IrmZ"
      },
      "source": [
        "eth_to_stable_index_df = client.query('''\n",
        "  select * from `arcx_dev.eth_to_stable_index`\n",
        "''').to_dataframe()"
      ],
      "execution_count": null,
      "outputs": []
    },
    {
      "cell_type": "code",
      "metadata": {
        "id": "vcWvZTO1kTz2"
      },
      "source": [
        "import pandas as pd\n",
        "eth_to_stable_index_df['stablecoin_usd_balance'] = pd.to_numeric(eth_to_stable_index_df['stablecoin_usd_balance'])"
      ],
      "execution_count": null,
      "outputs": []
    },
    {
      "cell_type": "markdown",
      "metadata": {
        "id": "s6cAaoFHNMN4"
      },
      "source": [
        ""
      ]
    },
    {
      "cell_type": "code",
      "metadata": {
        "id": "z0E7QZRNNABb"
      },
      "source": [
        ""
      ],
      "execution_count": null,
      "outputs": []
    },
    {
      "cell_type": "code",
      "metadata": {
        "id": "mFNLbvJcM0x8",
        "colab": {
          "base_uri": "https://localhost:8080/"
        },
        "outputId": "b057c202-60b3-44ad-dfa3-32d0fc68f40c"
      },
      "source": [
        "eth_to_stable_index_df['eth_to_stablecoin_ratio'].isnull().value_counts()"
      ],
      "execution_count": null,
      "outputs": [
        {
          "output_type": "execute_result",
          "data": {
            "text/plain": [
              "True     994486\n",
              "False    122710\n",
              "Name: eth_to_stablecoin_ratio, dtype: int64"
            ]
          },
          "metadata": {},
          "execution_count": 66
        }
      ]
    },
    {
      "cell_type": "markdown",
      "metadata": {
        "id": "3R-dXhm3NauP"
      },
      "source": [
        "per index definition, it does not apply when any eth_usd_balance or stablecoin_usd_balance is below 100. This is an arbitrary threshold to avoid corner cases, it should be fined tuned. \n",
        "\n",
        "~90% of the time the index is non-applicable for this batch of addresses"
      ]
    },
    {
      "cell_type": "code",
      "metadata": {
        "id": "xgtszKwLN1uf"
      },
      "source": [
        "valid_eth_to_stable_index_df = eth_to_stable_index_df[~eth_to_stable_index_df['eth_to_stablecoin_ratio'].isnull()]"
      ],
      "execution_count": null,
      "outputs": []
    },
    {
      "cell_type": "code",
      "metadata": {
        "id": "mQByIbjcN8l7",
        "colab": {
          "base_uri": "https://localhost:8080/",
          "height": 367
        },
        "outputId": "b9171a0a-da7c-441c-e5e3-39d302cdcef6"
      },
      "source": [
        "plt.hist(valid_eth_to_stable_index_df['eth_to_stablecoin_ratio'],bins=20,range=[0,10])"
      ],
      "execution_count": null,
      "outputs": [
        {
          "output_type": "execute_result",
          "data": {
            "text/plain": [
              "(array([55344., 13512.,  7315.,  4674.,  3242.,  2648.,  2192.,  2032.,\n",
              "         1694.,  1416.,  1222.,  1042.,   902.,   867.,   888.,   708.,\n",
              "          677.,   642.,   581.,   509.]),\n",
              " array([0.0, 0.5, 1.0, 1.5, 2.0, 2.5, 3.0, 3.5, 4.0, 4.5, 5.0, 5.5, 6.0,\n",
              "        6.5, 7.0, 7.5, 8.0, 8.5, 9.0, 9.5, 10.0], dtype=object),\n",
              " <a list of 20 Patch objects>)"
            ]
          },
          "metadata": {},
          "execution_count": 71
        },
        {
          "output_type": "display_data",
          "data": {
            "image/png": "[encoded data removed]",
            "text/plain": [
              "<Figure size 432x288 with 1 Axes>"
            ]
          },
          "metadata": {
            "needs_background": "light"
          }
        }
      ]
    },
    {
      "cell_type": "markdown",
      "metadata": {
        "id": "RSSR-9CKM0R0"
      },
      "source": [
        "this looks like a power law.. most values lie under the 0-0.5 interval and then it drops exponentially."
      ]
    },
    {
      "cell_type": "markdown",
      "metadata": {
        "id": "1kPtXlkqcKTj"
      },
      "source": [
        "Let's cut on a specific date and see the distribution"
      ]
    },
    {
      "cell_type": "code",
      "metadata": {
        "id": "QbEqgDZ5OzEG",
        "colab": {
          "base_uri": "https://localhost:8080/",
          "height": 282
        },
        "outputId": "78550e54-c74d-4baa-98d4-2cb0c82e4c3a"
      },
      "source": [
        "import datetime\n",
        "valid_eth_to_stable_index_df[valid_eth_to_stable_index_df['date']==datetime.date(2021,9,19)]['eth_to_stablecoin_ratio'].hist(bins=20,range=[0,10])"
      ],
      "execution_count": null,
      "outputs": [
        {
          "output_type": "execute_result",
          "data": {
            "text/plain": [
              "<matplotlib.axes._subplots.AxesSubplot at 0x7fc3a6948e90>"
            ]
          },
          "metadata": {},
          "execution_count": 111
        },
        {
          "output_type": "display_data",
          "data": {
            "image/png": "[encoded data removed]",
            "text/plain": [
              "<Figure size 432x288 with 1 Axes>"
            ]
          },
          "metadata": {
            "needs_background": "light"
          }
        }
      ]
    },
    {
      "cell_type": "markdown",
      "metadata": {
        "id": "z5gBgjaWoFev"
      },
      "source": [
        "Let's see top 10 - bottom 10 to get a better sense of their parameters"
      ]
    },
    {
      "cell_type": "code",
      "metadata": {
        "id": "Vtd-aUWScTkl",
        "colab": {
          "base_uri": "https://localhost:8080/",
          "height": 359
        },
        "outputId": "f71cea59-3de5-48db-a582-a275921054de"
      },
      "source": [
        "valid_eth_to_stable_index_df[valid_eth_to_stable_index_df['date']==datetime.date(2021,9,19)].sort_values('eth_to_stablecoin_ratio').head(10)"
      ],
      "execution_count": null,
      "outputs": [
        {
          "output_type": "execute_result",
          "data": {
            "text/html": [
              "<div>\n",
              "<style scoped>\n",
              "    .dataframe tbody tr th:only-of-type {\n",
              "        vertical-align: middle;\n",
              "    }\n",
              "\n",
              "    .dataframe tbody tr th {\n",
              "        vertical-align: top;\n",
              "    }\n",
              "\n",
              "    .dataframe thead th {\n",
              "        text-align: right;\n",
              "    }\n",
              "</style>\n",
              "<table border=\"1\" class=\"dataframe\">\n",
              "  <thead>\n",
              "    <tr style=\"text-align: right;\">\n",
              "      <th></th>\n",
              "      <th>address</th>\n",
              "      <th>date</th>\n",
              "      <th>stablecoin_usd_balance</th>\n",
              "      <th>eth_usd_balance</th>\n",
              "      <th>eth_to_stablecoin_ratio</th>\n",
              "    </tr>\n",
              "  </thead>\n",
              "  <tbody>\n",
              "    <tr>\n",
              "      <th>34002</th>\n",
              "      <td>0xcf407e4a4ff843859c41093a6d685f332fedfe15</td>\n",
              "      <td>2021-09-19</td>\n",
              "      <td>500</td>\n",
              "      <td>8.929891e+06</td>\n",
              "      <td>5.59917e-05</td>\n",
              "    </tr>\n",
              "    <tr>\n",
              "      <th>70369</th>\n",
              "      <td>0x0d24f692c05036602076b3f51242b5a34c55ee38</td>\n",
              "      <td>2021-09-19</td>\n",
              "      <td>153.509704804</td>\n",
              "      <td>2.332555e+06</td>\n",
              "      <td>6.58118e-05</td>\n",
              "    </tr>\n",
              "    <tr>\n",
              "      <th>196476</th>\n",
              "      <td>0x60002173b8c04e143ec6297c88e11e3025ef2254</td>\n",
              "      <td>2021-09-19</td>\n",
              "      <td>166.574411954</td>\n",
              "      <td>9.841896e+05</td>\n",
              "      <td>0.00016925</td>\n",
              "    </tr>\n",
              "    <tr>\n",
              "      <th>273732</th>\n",
              "      <td>0x22fa8cc33a42320385cbd3690ed60a021891cb32</td>\n",
              "      <td>2021-09-19</td>\n",
              "      <td>1762.613337102</td>\n",
              "      <td>9.093480e+06</td>\n",
              "      <td>0.000193833</td>\n",
              "    </tr>\n",
              "    <tr>\n",
              "      <th>154141</th>\n",
              "      <td>0x00f282c40b92bed05f1776cadf1c8b96b9fbaee3</td>\n",
              "      <td>2021-09-19</td>\n",
              "      <td>1241.417866291</td>\n",
              "      <td>5.413296e+06</td>\n",
              "      <td>0.000229328</td>\n",
              "    </tr>\n",
              "    <tr>\n",
              "      <th>288218</th>\n",
              "      <td>0xcb33844b365c53d3462271cee9b719b6fc8ba06a</td>\n",
              "      <td>2021-09-19</td>\n",
              "      <td>1148.305385486</td>\n",
              "      <td>3.578497e+06</td>\n",
              "      <td>0.00032089</td>\n",
              "    </tr>\n",
              "    <tr>\n",
              "      <th>145193</th>\n",
              "      <td>0x7b23e38fbd0e677a1d1f72fe29a1aea9fd83ade8</td>\n",
              "      <td>2021-09-19</td>\n",
              "      <td>623.035238745</td>\n",
              "      <td>1.408085e+06</td>\n",
              "      <td>0.00044247</td>\n",
              "    </tr>\n",
              "    <tr>\n",
              "      <th>296047</th>\n",
              "      <td>0x5f681ad96ce4ad8b3d7d745ba1e34109afebdab8</td>\n",
              "      <td>2021-09-19</td>\n",
              "      <td>100</td>\n",
              "      <td>1.904660e+05</td>\n",
              "      <td>0.000525028</td>\n",
              "    </tr>\n",
              "    <tr>\n",
              "      <th>217834</th>\n",
              "      <td>0x716034c25d9fb4b38c837afe417b7f2b9af3e9ae</td>\n",
              "      <td>2021-09-19</td>\n",
              "      <td>3227.000111</td>\n",
              "      <td>4.011288e+06</td>\n",
              "      <td>0.00080448</td>\n",
              "    </tr>\n",
              "    <tr>\n",
              "      <th>117652</th>\n",
              "      <td>0x775d90be88bfc66aba77a551d489e43ce5a33112</td>\n",
              "      <td>2021-09-19</td>\n",
              "      <td>6213.907928086</td>\n",
              "      <td>6.110440e+06</td>\n",
              "      <td>0.00101693</td>\n",
              "    </tr>\n",
              "  </tbody>\n",
              "</table>\n",
              "</div>"
            ],
            "text/plain": [
              "                                           address  ... eth_to_stablecoin_ratio\n",
              "34002   0xcf407e4a4ff843859c41093a6d685f332fedfe15  ...             5.59917e-05\n",
              "70369   0x0d24f692c05036602076b3f51242b5a34c55ee38  ...             6.58118e-05\n",
              "196476  0x60002173b8c04e143ec6297c88e11e3025ef2254  ...              0.00016925\n",
              "273732  0x22fa8cc33a42320385cbd3690ed60a021891cb32  ...             0.000193833\n",
              "154141  0x00f282c40b92bed05f1776cadf1c8b96b9fbaee3  ...             0.000229328\n",
              "288218  0xcb33844b365c53d3462271cee9b719b6fc8ba06a  ...              0.00032089\n",
              "145193  0x7b23e38fbd0e677a1d1f72fe29a1aea9fd83ade8  ...              0.00044247\n",
              "296047  0x5f681ad96ce4ad8b3d7d745ba1e34109afebdab8  ...             0.000525028\n",
              "217834  0x716034c25d9fb4b38c837afe417b7f2b9af3e9ae  ...              0.00080448\n",
              "117652  0x775d90be88bfc66aba77a551d489e43ce5a33112  ...              0.00101693\n",
              "\n",
              "[10 rows x 5 columns]"
            ]
          },
          "metadata": {},
          "execution_count": 95
        }
      ]
    },
    {
      "cell_type": "code",
      "metadata": {
        "id": "Vvd6onl5j7BJ",
        "colab": {
          "base_uri": "https://localhost:8080/",
          "height": 359
        },
        "outputId": "6d4fe82a-a67d-4ff3-a946-6518b8c94826"
      },
      "source": [
        "valid_eth_to_stable_index_df[valid_eth_to_stable_index_df['date']==datetime.date(2021,9,19)].sort_values('eth_to_stablecoin_ratio',ascending=False).head(10)"
      ],
      "execution_count": null,
      "outputs": [
        {
          "output_type": "execute_result",
          "data": {
            "text/html": [
              "<div>\n",
              "<style scoped>\n",
              "    .dataframe tbody tr th:only-of-type {\n",
              "        vertical-align: middle;\n",
              "    }\n",
              "\n",
              "    .dataframe tbody tr th {\n",
              "        vertical-align: top;\n",
              "    }\n",
              "\n",
              "    .dataframe thead th {\n",
              "        text-align: right;\n",
              "    }\n",
              "</style>\n",
              "<table border=\"1\" class=\"dataframe\">\n",
              "  <thead>\n",
              "    <tr style=\"text-align: right;\">\n",
              "      <th></th>\n",
              "      <th>address</th>\n",
              "      <th>date</th>\n",
              "      <th>stablecoin_usd_balance</th>\n",
              "      <th>eth_usd_balance</th>\n",
              "      <th>eth_to_stablecoin_ratio</th>\n",
              "    </tr>\n",
              "  </thead>\n",
              "  <tbody>\n",
              "    <tr>\n",
              "      <th>211960</th>\n",
              "      <td>0x0b4928839e6b77c3e162c67dbd4474574cac21ba</td>\n",
              "      <td>2021-09-19</td>\n",
              "      <td>2118060.016588</td>\n",
              "      <td>514.587122</td>\n",
              "      <td>4116.04</td>\n",
              "    </tr>\n",
              "    <tr>\n",
              "      <th>238149</th>\n",
              "      <td>0xbeb90b87629892a9fe9d47df81b2f87ab7a9ba8f</td>\n",
              "      <td>2021-09-19</td>\n",
              "      <td>398426.393204</td>\n",
              "      <td>135.475606</td>\n",
              "      <td>2940.95</td>\n",
              "    </tr>\n",
              "    <tr>\n",
              "      <th>68012</th>\n",
              "      <td>0xdb7030beb1c07668aa49ea32fbe0282fe8e9d12f</td>\n",
              "      <td>2021-09-19</td>\n",
              "      <td>9999982.83969158</td>\n",
              "      <td>18249.297446</td>\n",
              "      <td>547.965</td>\n",
              "    </tr>\n",
              "    <tr>\n",
              "      <th>154303</th>\n",
              "      <td>0x02c5c20c7aa2725dd244e3deb4bb3435e91e1d68</td>\n",
              "      <td>2021-09-19</td>\n",
              "      <td>282674.35335189</td>\n",
              "      <td>759.694774</td>\n",
              "      <td>372.089</td>\n",
              "    </tr>\n",
              "    <tr>\n",
              "      <th>86246</th>\n",
              "      <td>0x68af1f3f341a1e690d16e0b03f516866093972fd</td>\n",
              "      <td>2021-09-19</td>\n",
              "      <td>105794.881844</td>\n",
              "      <td>340.397297</td>\n",
              "      <td>310.798</td>\n",
              "    </tr>\n",
              "    <tr>\n",
              "      <th>285396</th>\n",
              "      <td>0x2bd7d71390ed6946159b1cb49bc270cbe3ef1a53</td>\n",
              "      <td>2021-09-19</td>\n",
              "      <td>64881.128359</td>\n",
              "      <td>255.410278</td>\n",
              "      <td>254.027</td>\n",
              "    </tr>\n",
              "    <tr>\n",
              "      <th>30329</th>\n",
              "      <td>0xa42830ee059c77caf8c8200b44aa9813cb0720c5</td>\n",
              "      <td>2021-09-19</td>\n",
              "      <td>343740.882593</td>\n",
              "      <td>1489.387075</td>\n",
              "      <td>230.794</td>\n",
              "    </tr>\n",
              "    <tr>\n",
              "      <th>134396</th>\n",
              "      <td>0xfb7e3844348dc2eb31ec32f91aaa82fe5b7b2d71</td>\n",
              "      <td>2021-09-19</td>\n",
              "      <td>40000</td>\n",
              "      <td>238.155128</td>\n",
              "      <td>167.958</td>\n",
              "    </tr>\n",
              "    <tr>\n",
              "      <th>261036</th>\n",
              "      <td>0xcae2d5aed9f5e0075d49a4b5f492b4a73a64dc25</td>\n",
              "      <td>2021-09-19</td>\n",
              "      <td>60931.642467437</td>\n",
              "      <td>379.398242</td>\n",
              "      <td>160.601</td>\n",
              "    </tr>\n",
              "    <tr>\n",
              "      <th>84026</th>\n",
              "      <td>0xdca313c4df33c2142b2adf202d6abf4fa56e1d41</td>\n",
              "      <td>2021-09-19</td>\n",
              "      <td>1048990.696730983</td>\n",
              "      <td>7763.581479</td>\n",
              "      <td>135.117</td>\n",
              "    </tr>\n",
              "  </tbody>\n",
              "</table>\n",
              "</div>"
            ],
            "text/plain": [
              "                                           address  ... eth_to_stablecoin_ratio\n",
              "211960  0x0b4928839e6b77c3e162c67dbd4474574cac21ba  ...                 4116.04\n",
              "238149  0xbeb90b87629892a9fe9d47df81b2f87ab7a9ba8f  ...                 2940.95\n",
              "68012   0xdb7030beb1c07668aa49ea32fbe0282fe8e9d12f  ...                 547.965\n",
              "154303  0x02c5c20c7aa2725dd244e3deb4bb3435e91e1d68  ...                 372.089\n",
              "86246   0x68af1f3f341a1e690d16e0b03f516866093972fd  ...                 310.798\n",
              "285396  0x2bd7d71390ed6946159b1cb49bc270cbe3ef1a53  ...                 254.027\n",
              "30329   0xa42830ee059c77caf8c8200b44aa9813cb0720c5  ...                 230.794\n",
              "134396  0xfb7e3844348dc2eb31ec32f91aaa82fe5b7b2d71  ...                 167.958\n",
              "261036  0xcae2d5aed9f5e0075d49a4b5f492b4a73a64dc25  ...                 160.601\n",
              "84026   0xdca313c4df33c2142b2adf202d6abf4fa56e1d41  ...                 135.117\n",
              "\n",
              "[10 rows x 5 columns]"
            ]
          },
          "metadata": {},
          "execution_count": 109
        }
      ]
    },
    {
      "cell_type": "markdown",
      "metadata": {
        "id": "tHoeTtcBoQ8x"
      },
      "source": [
        "At high (>100) or  low (<0.001) values of  **eth_to_stablecoin_ratio** I found very imbalanced wallets either with a lot of ETH or a lot of stablecoins. Either case they look like *whales* holding a lot of value in assets. \n",
        "\n",
        "this means the index probably won't work well on this range because whales might behave very differently. "
      ]
    },
    {
      "cell_type": "code",
      "metadata": {
        "id": "pK54flh1pUwU",
        "colab": {
          "base_uri": "https://localhost:8080/",
          "height": 282
        },
        "outputId": "aaf8ce43-cbe8-408c-f5ef-14c0cb0017d0"
      },
      "source": [
        "condition = (valid_eth_to_stable_index_df['date']==datetime.date(2021,5,19)) & (valid_eth_to_stable_index_df['eth_to_stablecoin_ratio']>0.1) & (valid_eth_to_stable_index_df['eth_to_stablecoin_ratio']<100)\n",
        "valid_eth_to_stable_index_df[condition]['eth_to_stablecoin_ratio'].hist(bins=20,range=[0.1,100])"
      ],
      "execution_count": null,
      "outputs": [
        {
          "output_type": "execute_result",
          "data": {
            "text/plain": [
              "<matplotlib.axes._subplots.AxesSubplot at 0x7fc3a61d2850>"
            ]
          },
          "metadata": {},
          "execution_count": 116
        },
        {
          "output_type": "display_data",
          "data": {
            "image/png": "[encoded data removed]",
            "text/plain": [
              "<Figure size 432x288 with 1 Axes>"
            ]
          },
          "metadata": {
            "needs_background": "light"
          }
        }
      ]
    },
    {
      "cell_type": "markdown",
      "metadata": {
        "id": "tsguQMTDtbWS"
      },
      "source": [
        "Still under this range we find the distribution to be skewed. Looks like its more frequent to have eth>>stable than the other way around. "
      ]
    },
    {
      "cell_type": "markdown",
      "metadata": {
        "id": "yJXKRN1et3sc"
      },
      "source": [
        "Let's track the index across time for a couple of addresses:"
      ]
    },
    {
      "cell_type": "code",
      "metadata": {
        "id": "4F6MasdRt9US",
        "colab": {
          "base_uri": "https://localhost:8080/",
          "height": 296
        },
        "outputId": "9c2664d0-847e-4a62-f757-eea3d41d644d"
      },
      "source": [
        "valid_eth_to_stable_index_df[valid_eth_to_stable_index_df['address']==sample_address].sort_values(by='date').plot(x='date',y='eth_to_stablecoin_ratio')"
      ],
      "execution_count": null,
      "outputs": [
        {
          "output_type": "execute_result",
          "data": {
            "text/plain": [
              "<matplotlib.axes._subplots.AxesSubplot at 0x7fc3a5f17390>"
            ]
          },
          "metadata": {},
          "execution_count": 119
        },
        {
          "output_type": "display_data",
          "data": {
            "image/png": "[encoded data removed]",
            "text/plain": [
              "<Figure size 432x288 with 1 Axes>"
            ]
          },
          "metadata": {
            "needs_background": "light"
          }
        }
      ]
    },
    {
      "cell_type": "code",
      "metadata": {
        "id": "7TNJg06AujiT",
        "colab": {
          "base_uri": "https://localhost:8080/",
          "height": 296
        },
        "outputId": "570c562c-81d7-4a04-a078-b924b2d17d0e"
      },
      "source": [
        "valid_eth_to_stable_index_df[valid_eth_to_stable_index_df['address']=='0xc124e47aa04fa869aa4a2f6fcef717b709562dba'].sort_values(by='date').plot(x='date',y='eth_to_stablecoin_ratio')"
      ],
      "execution_count": null,
      "outputs": [
        {
          "output_type": "execute_result",
          "data": {
            "text/plain": [
              "<matplotlib.axes._subplots.AxesSubplot at 0x7fc3a5746f90>"
            ]
          },
          "metadata": {},
          "execution_count": 124
        },
        {
          "output_type": "display_data",
          "data": {
            "image/png": "[encoded data removed]",
            "text/plain": [
              "<Figure size 432x288 with 1 Axes>"
            ]
          },
          "metadata": {
            "needs_background": "light"
          }
        }
      ]
    },
    {
      "cell_type": "code",
      "metadata": {
        "id": "Qu0iaVPZvgDV",
        "colab": {
          "base_uri": "https://localhost:8080/",
          "height": 296
        },
        "outputId": "ee8a4efb-05b7-4c32-ee4f-19747ca0a1ea"
      },
      "source": [
        "valid_eth_to_stable_index_df[valid_eth_to_stable_index_df['address']=='0x40c839b831c90173dc7fbce49a25274a4688ddd9'].sort_values(by='date').plot(x='date',y='eth_to_stablecoin_ratio')"
      ],
      "execution_count": null,
      "outputs": [
        {
          "output_type": "execute_result",
          "data": {
            "text/plain": [
              "<matplotlib.axes._subplots.AxesSubplot at 0x7fc3a540b850>"
            ]
          },
          "metadata": {},
          "execution_count": 125
        },
        {
          "output_type": "display_data",
          "data": {
            "image/png": "[encoded data removed]",
            "text/plain": [
              "<Figure size 432x288 with 1 Axes>"
            ]
          },
          "metadata": {
            "needs_background": "light"
          }
        }
      ]
    },
    {
      "cell_type": "markdown",
      "metadata": {
        "id": "GhDxdGsrvnML"
      },
      "source": [
        "* might these charts reflect a particular strategy?\n",
        "* are addresses that mantain a particular ratio across time more trustable?\n",
        "* there are probably more features to be derived from aggregating this index across different time windows."
      ]
    },
    {
      "cell_type": "markdown",
      "metadata": {
        "id": "_WhtIAQJwlIl"
      },
      "source": [
        "# use case\n",
        "\n",
        "We'll measure the index at the time of the borrow events and explore its distribution for the liquidated vs no liquidated wallets.\n",
        "\n",
        "* for addresses with liquidation events, we pick the last borrow.\n",
        "* for addresses with no liquidations so far, we pick the last borrow as well."
      ]
    },
    {
      "cell_type": "code",
      "metadata": {
        "id": "b3Mhxzz77aMF"
      },
      "source": [
        "join_eth_to_stable_ratio = '''with last_borrow_compound as (\n",
        "    SELECT *,row_number() over( partition by borrower order by block_timestamp desc) as rank FROM `arcx_dev.compound_usdc_sample_address` \n",
        ")\n",
        "select * from last_borrow_compound \n",
        "inner join `arcx_dev.eth_to_stable_index` eth_ratio \n",
        "on eth_ratio.address=last_borrow_compound.borrower and eth_ratio.date=cast(last_borrow_compound.block_timestamp as date)\n",
        "where rank=1\n",
        "order by block_timestamp desc\n",
        "'''\n",
        "\n",
        "eth_to_stable_df = client.query(join_eth_to_stable_ratio).to_dataframe()"
      ],
      "execution_count": null,
      "outputs": []
    },
    {
      "cell_type": "code",
      "metadata": {
        "id": "a2tHg5we8Cy3",
        "colab": {
          "base_uri": "https://localhost:8080/",
          "height": 609
        },
        "outputId": "882a109e-5d69-41eb-b463-ae0e22f32ef8"
      },
      "source": [
        "eth_to_stable_df"
      ],
      "execution_count": null,
      "outputs": [
        {
          "output_type": "execute_result",
          "data": {
            "text/html": [
              "<div>\n",
              "<style scoped>\n",
              "    .dataframe tbody tr th:only-of-type {\n",
              "        vertical-align: middle;\n",
              "    }\n",
              "\n",
              "    .dataframe tbody tr th {\n",
              "        vertical-align: top;\n",
              "    }\n",
              "\n",
              "    .dataframe thead th {\n",
              "        text-align: right;\n",
              "    }\n",
              "</style>\n",
              "<table border=\"1\" class=\"dataframe\">\n",
              "  <thead>\n",
              "    <tr style=\"text-align: right;\">\n",
              "      <th></th>\n",
              "      <th>block_timestamp</th>\n",
              "      <th>block_number</th>\n",
              "      <th>transaction_hash</th>\n",
              "      <th>log_index</th>\n",
              "      <th>contract_address</th>\n",
              "      <th>borrower</th>\n",
              "      <th>borrowAmount</th>\n",
              "      <th>accountBorrows</th>\n",
              "      <th>totalBorrows</th>\n",
              "      <th>has_liquidate_event</th>\n",
              "      <th>rk</th>\n",
              "      <th>rank</th>\n",
              "      <th>address</th>\n",
              "      <th>date</th>\n",
              "      <th>stablecoin_usd_balance</th>\n",
              "      <th>eth_usd_balance</th>\n",
              "      <th>eth_to_stablecoin_ratio</th>\n",
              "    </tr>\n",
              "  </thead>\n",
              "  <tbody>\n",
              "    <tr>\n",
              "      <th>0</th>\n",
              "      <td>2021-09-19 22:41:08+00:00</td>\n",
              "      <td>13258954</td>\n",
              "      <td>0x56e0d98cd0bfb4bfdc03371795763247dd7a651bd711...</td>\n",
              "      <td>214</td>\n",
              "      <td>0x39aa39c021dfbae8fac545936693ac917d5e7563</td>\n",
              "      <td>0xdc11c313a28a68c6fc4df718dd93f057849e8208</td>\n",
              "      <td>21635728</td>\n",
              "      <td>2144970082</td>\n",
              "      <td>3601194752311289</td>\n",
              "      <td>0</td>\n",
              "      <td>1</td>\n",
              "      <td>1</td>\n",
              "      <td>0xdc11c313a28a68c6fc4df718dd93f057849e8208</td>\n",
              "      <td>2021-09-19</td>\n",
              "      <td>0</td>\n",
              "      <td>0.000000</td>\n",
              "      <td>NaN</td>\n",
              "    </tr>\n",
              "    <tr>\n",
              "      <th>1</th>\n",
              "      <td>2021-09-19 22:05:22+00:00</td>\n",
              "      <td>13258798</td>\n",
              "      <td>0xc7cc6954400cb92e879f464fd16793e6bae4ecd14f3b...</td>\n",
              "      <td>120</td>\n",
              "      <td>0x39aa39c021dfbae8fac545936693ac917d5e7563</td>\n",
              "      <td>0x9c92d74ae777fa12715f0033ba027ecb86bbff6a</td>\n",
              "      <td>20000000</td>\n",
              "      <td>20000000</td>\n",
              "      <td>3600312935234503</td>\n",
              "      <td>0</td>\n",
              "      <td>1</td>\n",
              "      <td>1</td>\n",
              "      <td>0x9c92d74ae777fa12715f0033ba027ecb86bbff6a</td>\n",
              "      <td>2021-09-19</td>\n",
              "      <td>427.920813</td>\n",
              "      <td>184.945356</td>\n",
              "      <td>2.313769</td>\n",
              "    </tr>\n",
              "    <tr>\n",
              "      <th>2</th>\n",
              "      <td>2021-09-19 19:52:29+00:00</td>\n",
              "      <td>13258172</td>\n",
              "      <td>0xac5b3dbbbf507413db16d4ca3fb44e978a031f2dc60a...</td>\n",
              "      <td>471</td>\n",
              "      <td>0x39aa39c021dfbae8fac545936693ac917d5e7563</td>\n",
              "      <td>0x8b51980087898a3882f9e46ebe83bb600e4c8e8e</td>\n",
              "      <td>10000000000</td>\n",
              "      <td>97058154070</td>\n",
              "      <td>3600421141098809</td>\n",
              "      <td>0</td>\n",
              "      <td>1</td>\n",
              "      <td>1</td>\n",
              "      <td>0x8b51980087898a3882f9e46ebe83bb600e4c8e8e</td>\n",
              "      <td>2021-09-19</td>\n",
              "      <td>0</td>\n",
              "      <td>261.167656</td>\n",
              "      <td>NaN</td>\n",
              "    </tr>\n",
              "    <tr>\n",
              "      <th>3</th>\n",
              "      <td>2021-09-19 18:43:39+00:00</td>\n",
              "      <td>13257838</td>\n",
              "      <td>0x58f3e8e3dc7265db2a8f7d973800bcfeb238beffed7b...</td>\n",
              "      <td>158</td>\n",
              "      <td>0x39aa39c021dfbae8fac545936693ac917d5e7563</td>\n",
              "      <td>0x41d5c91836cb9fbbb644c30ac4278befec52caee</td>\n",
              "      <td>217417521900</td>\n",
              "      <td>1213956014857</td>\n",
              "      <td>3600467814671001</td>\n",
              "      <td>0</td>\n",
              "      <td>1</td>\n",
              "      <td>1</td>\n",
              "      <td>0x41d5c91836cb9fbbb644c30ac4278befec52caee</td>\n",
              "      <td>2021-09-19</td>\n",
              "      <td>17407.5219</td>\n",
              "      <td>205.364294</td>\n",
              "      <td>84.764112</td>\n",
              "    </tr>\n",
              "    <tr>\n",
              "      <th>4</th>\n",
              "      <td>2021-09-19 17:17:53+00:00</td>\n",
              "      <td>13257471</td>\n",
              "      <td>0x56eac66a66985d0e9ad932f0e2100bee480fb39ad3fd...</td>\n",
              "      <td>27</td>\n",
              "      <td>0x39aa39c021dfbae8fac545936693ac917d5e7563</td>\n",
              "      <td>0x40c839b831c90173dc7fbce49a25274a4688ddd9</td>\n",
              "      <td>460000000000</td>\n",
              "      <td>671219728319</td>\n",
              "      <td>3600395811760379</td>\n",
              "      <td>0</td>\n",
              "      <td>1</td>\n",
              "      <td>1</td>\n",
              "      <td>0x40c839b831c90173dc7fbce49a25274a4688ddd9</td>\n",
              "      <td>2021-09-19</td>\n",
              "      <td>7084.536606</td>\n",
              "      <td>345601.794356</td>\n",
              "      <td>0.020499</td>\n",
              "    </tr>\n",
              "    <tr>\n",
              "      <th>...</th>\n",
              "      <td>...</td>\n",
              "      <td>...</td>\n",
              "      <td>...</td>\n",
              "      <td>...</td>\n",
              "      <td>...</td>\n",
              "      <td>...</td>\n",
              "      <td>...</td>\n",
              "      <td>...</td>\n",
              "      <td>...</td>\n",
              "      <td>...</td>\n",
              "      <td>...</td>\n",
              "      <td>...</td>\n",
              "      <td>...</td>\n",
              "      <td>...</td>\n",
              "      <td>...</td>\n",
              "      <td>...</td>\n",
              "      <td>...</td>\n",
              "    </tr>\n",
              "    <tr>\n",
              "      <th>2990</th>\n",
              "      <td>2021-05-01 02:46:17+00:00</td>\n",
              "      <td>12345678</td>\n",
              "      <td>0x7d804518ec6ac0b204fb79ca46c365f91822fbb5caef...</td>\n",
              "      <td>359</td>\n",
              "      <td>0x39aa39c021dfbae8fac545936693ac917d5e7563</td>\n",
              "      <td>0x6aa8d6c337000bb93abff3ef852336c1c1df39d8</td>\n",
              "      <td>3000000000</td>\n",
              "      <td>8047975525</td>\n",
              "      <td>3518864587675676</td>\n",
              "      <td>0</td>\n",
              "      <td>1</td>\n",
              "      <td>1</td>\n",
              "      <td>0x6aa8d6c337000bb93abff3ef852336c1c1df39d8</td>\n",
              "      <td>2021-05-01</td>\n",
              "      <td>0</td>\n",
              "      <td>0.000000</td>\n",
              "      <td>NaN</td>\n",
              "    </tr>\n",
              "    <tr>\n",
              "      <th>2991</th>\n",
              "      <td>2021-05-01 01:33:02+00:00</td>\n",
              "      <td>12345376</td>\n",
              "      <td>0xa52f71ea984f6767b19ad527c77f03b4189c5a0c7555...</td>\n",
              "      <td>323</td>\n",
              "      <td>0x39aa39c021dfbae8fac545936693ac917d5e7563</td>\n",
              "      <td>0x34c02997bf359e0e17f8221295c0bb09c2e2346c</td>\n",
              "      <td>749330162</td>\n",
              "      <td>749330162</td>\n",
              "      <td>3519503456244520</td>\n",
              "      <td>1</td>\n",
              "      <td>1</td>\n",
              "      <td>1</td>\n",
              "      <td>0x34c02997bf359e0e17f8221295c0bb09c2e2346c</td>\n",
              "      <td>2021-05-01</td>\n",
              "      <td>0</td>\n",
              "      <td>124.896170</td>\n",
              "      <td>NaN</td>\n",
              "    </tr>\n",
              "    <tr>\n",
              "      <th>2992</th>\n",
              "      <td>2021-05-01 01:09:15+00:00</td>\n",
              "      <td>12345277</td>\n",
              "      <td>0x1dfcdd7bc99899bf65e13cab808a9523599afabc365b...</td>\n",
              "      <td>30</td>\n",
              "      <td>0x39aa39c021dfbae8fac545936693ac917d5e7563</td>\n",
              "      <td>0x6513b81d8240cb94abc089f2cba60be6fda2f805</td>\n",
              "      <td>400000000000</td>\n",
              "      <td>809783904803</td>\n",
              "      <td>3519932624642296</td>\n",
              "      <td>0</td>\n",
              "      <td>1</td>\n",
              "      <td>1</td>\n",
              "      <td>0x6513b81d8240cb94abc089f2cba60be6fda2f805</td>\n",
              "      <td>2021-05-01</td>\n",
              "      <td>0</td>\n",
              "      <td>4671.965313</td>\n",
              "      <td>NaN</td>\n",
              "    </tr>\n",
              "    <tr>\n",
              "      <th>2993</th>\n",
              "      <td>2021-05-01 00:52:48+00:00</td>\n",
              "      <td>12345188</td>\n",
              "      <td>0x2d1a582ce31928e372229f1b56aa4cb5a449f9629cdb...</td>\n",
              "      <td>330</td>\n",
              "      <td>0x39aa39c021dfbae8fac545936693ac917d5e7563</td>\n",
              "      <td>0xc124e47aa04fa869aa4a2f6fcef717b709562dba</td>\n",
              "      <td>1563705236</td>\n",
              "      <td>56913761541</td>\n",
              "      <td>3519526695814557</td>\n",
              "      <td>0</td>\n",
              "      <td>1</td>\n",
              "      <td>1</td>\n",
              "      <td>0xc124e47aa04fa869aa4a2f6fcef717b709562dba</td>\n",
              "      <td>2021-05-01</td>\n",
              "      <td>54341.852494025</td>\n",
              "      <td>1283.257234</td>\n",
              "      <td>42.346812</td>\n",
              "    </tr>\n",
              "    <tr>\n",
              "      <th>2994</th>\n",
              "      <td>2021-05-01 00:45:54+00:00</td>\n",
              "      <td>12345152</td>\n",
              "      <td>0x750f37e2d88d063324baddf6aafa708cbfbaef2db064...</td>\n",
              "      <td>249</td>\n",
              "      <td>0x39aa39c021dfbae8fac545936693ac917d5e7563</td>\n",
              "      <td>0xd4c6985ea6f9c923060cc430491ec87769dbb410</td>\n",
              "      <td>10000000000</td>\n",
              "      <td>120014583713</td>\n",
              "      <td>3519522733955535</td>\n",
              "      <td>0</td>\n",
              "      <td>1</td>\n",
              "      <td>1</td>\n",
              "      <td>0xd4c6985ea6f9c923060cc430491ec87769dbb410</td>\n",
              "      <td>2021-05-01</td>\n",
              "      <td>0</td>\n",
              "      <td>194.464122</td>\n",
              "      <td>NaN</td>\n",
              "    </tr>\n",
              "  </tbody>\n",
              "</table>\n",
              "<p>2995 rows × 17 columns</p>\n",
              "</div>"
            ],
            "text/plain": [
              "               block_timestamp  ...  eth_to_stablecoin_ratio\n",
              "0    2021-09-19 22:41:08+00:00  ...                      NaN\n",
              "1    2021-09-19 22:05:22+00:00  ...                 2.313769\n",
              "2    2021-09-19 19:52:29+00:00  ...                      NaN\n",
              "3    2021-09-19 18:43:39+00:00  ...                84.764112\n",
              "4    2021-09-19 17:17:53+00:00  ...                 0.020499\n",
              "...                        ...  ...                      ...\n",
              "2990 2021-05-01 02:46:17+00:00  ...                      NaN\n",
              "2991 2021-05-01 01:33:02+00:00  ...                      NaN\n",
              "2992 2021-05-01 01:09:15+00:00  ...                      NaN\n",
              "2993 2021-05-01 00:52:48+00:00  ...                42.346812\n",
              "2994 2021-05-01 00:45:54+00:00  ...                      NaN\n",
              "\n",
              "[2995 rows x 17 columns]"
            ]
          },
          "metadata": {},
          "execution_count": 127
        }
      ]
    },
    {
      "cell_type": "code",
      "metadata": {
        "id": "_61AYCON6flf"
      },
      "source": [
        "# remove invalid ranges\n",
        "condition = (eth_to_stable_df['eth_to_stablecoin_ratio']>0.01) & (eth_to_stable_df['eth_to_stablecoin_ratio']<50)\n",
        "valid_eth_to_stable_df = eth_to_stable_df[condition]"
      ],
      "execution_count": null,
      "outputs": []
    },
    {
      "cell_type": "code",
      "metadata": {
        "id": "ORPq8E5W7pLk",
        "colab": {
          "base_uri": "https://localhost:8080/",
          "height": 298
        },
        "outputId": "2f59387c-7f43-42cf-aaee-a6e726b7ffad"
      },
      "source": [
        "valid_eth_to_stable_df[valid_eth_to_stable_df['has_liquidate_event']==0]['eth_to_stablecoin_ratio'].plot(kind='hist',bins=20,title='index distribution for non-liquidated borrowers')"
      ],
      "execution_count": null,
      "outputs": [
        {
          "output_type": "execute_result",
          "data": {
            "text/plain": [
              "<matplotlib.axes._subplots.AxesSubplot at 0x7fc3a1067650>"
            ]
          },
          "metadata": {},
          "execution_count": 164
        },
        {
          "output_type": "display_data",
          "data": {
            "image/png": "[encoded data removed]",
            "text/plain": [
              "<Figure size 432x288 with 1 Axes>"
            ]
          },
          "metadata": {
            "needs_background": "light"
          }
        }
      ]
    },
    {
      "cell_type": "code",
      "metadata": {
        "id": "H4VKmo8F77-t",
        "colab": {
          "base_uri": "https://localhost:8080/",
          "height": 298
        },
        "outputId": "1da0a289-4c8c-46d3-ae1d-83f8b115b6d1"
      },
      "source": [
        "valid_eth_to_stable_df[valid_eth_to_stable_df['has_liquidate_event']==1]['eth_to_stablecoin_ratio'].plot(kind='hist',bins=20,title='index distribution for liquidated borrowers')"
      ],
      "execution_count": null,
      "outputs": [
        {
          "output_type": "execute_result",
          "data": {
            "text/plain": [
              "<matplotlib.axes._subplots.AxesSubplot at 0x7fc3a3ecbcd0>"
            ]
          },
          "metadata": {},
          "execution_count": 165
        },
        {
          "output_type": "display_data",
          "data": {
            "image/png": "[encoded data removed]",
            "text/plain": [
              "<Figure size 432x288 with 1 Axes>"
            ]
          },
          "metadata": {
            "needs_background": "light"
          }
        }
      ]
    },
    {
      "cell_type": "code",
      "metadata": {
        "id": "AfovVB-h8bW0",
        "colab": {
          "base_uri": "https://localhost:8080/",
          "height": 142
        },
        "outputId": "55ae9dfd-4a94-4f71-b792-c71b50c0676e"
      },
      "source": [
        "eth_to_stable_df.groupby('has_liquidate_event')['eth_to_stablecoin_ratio'].describe()"
      ],
      "execution_count": null,
      "outputs": [
        {
          "output_type": "execute_result",
          "data": {
            "text/html": [
              "<div>\n",
              "<style scoped>\n",
              "    .dataframe tbody tr th:only-of-type {\n",
              "        vertical-align: middle;\n",
              "    }\n",
              "\n",
              "    .dataframe tbody tr th {\n",
              "        vertical-align: top;\n",
              "    }\n",
              "\n",
              "    .dataframe thead th {\n",
              "        text-align: right;\n",
              "    }\n",
              "</style>\n",
              "<table border=\"1\" class=\"dataframe\">\n",
              "  <thead>\n",
              "    <tr style=\"text-align: right;\">\n",
              "      <th></th>\n",
              "      <th>count</th>\n",
              "      <th>mean</th>\n",
              "      <th>std</th>\n",
              "      <th>min</th>\n",
              "      <th>25%</th>\n",
              "      <th>50%</th>\n",
              "      <th>75%</th>\n",
              "      <th>max</th>\n",
              "    </tr>\n",
              "    <tr>\n",
              "      <th>has_liquidate_event</th>\n",
              "      <th></th>\n",
              "      <th></th>\n",
              "      <th></th>\n",
              "      <th></th>\n",
              "      <th></th>\n",
              "      <th></th>\n",
              "      <th></th>\n",
              "      <th></th>\n",
              "    </tr>\n",
              "  </thead>\n",
              "  <tbody>\n",
              "    <tr>\n",
              "      <th>0</th>\n",
              "      <td>526.0</td>\n",
              "      <td>21.813396</td>\n",
              "      <td>144.543430</td>\n",
              "      <td>0.000049</td>\n",
              "      <td>0.222634</td>\n",
              "      <td>1.190823</td>\n",
              "      <td>7.312945</td>\n",
              "      <td>2977.729242</td>\n",
              "    </tr>\n",
              "    <tr>\n",
              "      <th>1</th>\n",
              "      <td>42.0</td>\n",
              "      <td>11.656732</td>\n",
              "      <td>22.691111</td>\n",
              "      <td>0.017036</td>\n",
              "      <td>1.018687</td>\n",
              "      <td>3.076236</td>\n",
              "      <td>12.241302</td>\n",
              "      <td>114.298733</td>\n",
              "    </tr>\n",
              "  </tbody>\n",
              "</table>\n",
              "</div>"
            ],
            "text/plain": [
              "                     count       mean  ...        75%          max\n",
              "has_liquidate_event                    ...                        \n",
              "0                    526.0  21.813396  ...   7.312945  2977.729242\n",
              "1                     42.0  11.656732  ...  12.241302   114.298733\n",
              "\n",
              "[2 rows x 8 columns]"
            ]
          },
          "metadata": {},
          "execution_count": 166
        }
      ]
    },
    {
      "cell_type": "code",
      "metadata": {
        "id": "c65x7nnEikoj",
        "colab": {
          "base_uri": "https://localhost:8080/",
          "height": 142
        },
        "outputId": "a9052ffb-b9e7-433d-8ebf-915bf8889c93"
      },
      "source": [
        "valid_eth_to_stable_df.groupby('has_liquidate_event')['eth_to_stablecoin_ratio'].describe()"
      ],
      "execution_count": null,
      "outputs": [
        {
          "output_type": "execute_result",
          "data": {
            "text/html": [
              "<div>\n",
              "<style scoped>\n",
              "    .dataframe tbody tr th:only-of-type {\n",
              "        vertical-align: middle;\n",
              "    }\n",
              "\n",
              "    .dataframe tbody tr th {\n",
              "        vertical-align: top;\n",
              "    }\n",
              "\n",
              "    .dataframe thead th {\n",
              "        text-align: right;\n",
              "    }\n",
              "</style>\n",
              "<table border=\"1\" class=\"dataframe\">\n",
              "  <thead>\n",
              "    <tr style=\"text-align: right;\">\n",
              "      <th></th>\n",
              "      <th>count</th>\n",
              "      <th>mean</th>\n",
              "      <th>std</th>\n",
              "      <th>min</th>\n",
              "      <th>25%</th>\n",
              "      <th>50%</th>\n",
              "      <th>75%</th>\n",
              "      <th>max</th>\n",
              "    </tr>\n",
              "    <tr>\n",
              "      <th>has_liquidate_event</th>\n",
              "      <th></th>\n",
              "      <th></th>\n",
              "      <th></th>\n",
              "      <th></th>\n",
              "      <th></th>\n",
              "      <th></th>\n",
              "      <th></th>\n",
              "      <th></th>\n",
              "    </tr>\n",
              "  </thead>\n",
              "  <tbody>\n",
              "    <tr>\n",
              "      <th>0</th>\n",
              "      <td>472.0</td>\n",
              "      <td>4.678212</td>\n",
              "      <td>8.229406</td>\n",
              "      <td>0.010815</td>\n",
              "      <td>0.230171</td>\n",
              "      <td>1.043236</td>\n",
              "      <td>4.735276</td>\n",
              "      <td>46.978196</td>\n",
              "    </tr>\n",
              "    <tr>\n",
              "      <th>1</th>\n",
              "      <td>39.0</td>\n",
              "      <td>6.116092</td>\n",
              "      <td>8.487207</td>\n",
              "      <td>0.017036</td>\n",
              "      <td>0.728183</td>\n",
              "      <td>2.920083</td>\n",
              "      <td>7.875222</td>\n",
              "      <td>40.973427</td>\n",
              "    </tr>\n",
              "  </tbody>\n",
              "</table>\n",
              "</div>"
            ],
            "text/plain": [
              "                     count      mean       std  ...       50%       75%        max\n",
              "has_liquidate_event                             ...                               \n",
              "0                    472.0  4.678212  8.229406  ...  1.043236  4.735276  46.978196\n",
              "1                     39.0  6.116092  8.487207  ...  2.920083  7.875222  40.973427\n",
              "\n",
              "[2 rows x 8 columns]"
            ]
          },
          "metadata": {},
          "execution_count": 167
        }
      ]
    },
    {
      "cell_type": "markdown",
      "metadata": {
        "id": "Q_lZSXPWMKUY"
      },
      "source": [
        " ## observations\n",
        " * both index distributions for liquidated vs non-liquidated look similar \n",
        " * sample size for liquidated events is low when considering ETH and stablecoin thresholds. \n",
        " * with this setup the index is highly skewed and clusters a lot of addresses within the 0-1 range, some transformations might help. "
      ]
    },
    {
      "cell_type": "code",
      "metadata": {
        "id": "Sw1vS49zAueS"
      },
      "source": [
        ""
      ],
      "execution_count": null,
      "outputs": []
    },
    {
      "cell_type": "markdown",
      "metadata": {
        "id": "aP43aP4dAz29"
      },
      "source": [
        "# conclusions"
      ]
    },
    {
      "cell_type": "markdown",
      "metadata": {
        "id": "s0KDOL2iCoUu"
      },
      "source": [
        "* An index was created using Stablecoin balances (usdc+dai+usdt) and ETH balances over time for a given sample of addresses.\n",
        "* To remove complexity and corner cases, we established arbitrary boundaries for the index to work i.e. the index doesn`t apply when ETH_USD or STABLE_USD <100. \n",
        "* We detected outliers matched to wallets holding a lot of usd_value \n",
        "* We sampled the index for wallets interacting with the Compound protocol and try to distinguish addresses which had / had not liquidation events. \n"
      ]
    },
    {
      "cell_type": "code",
      "metadata": {
        "id": "eIVQxDMzCnJA"
      },
      "source": [
        ""
      ],
      "execution_count": null,
      "outputs": []
    }
  ]
}